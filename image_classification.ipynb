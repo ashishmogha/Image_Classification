{
 "cells": [
  {
   "cell_type": "markdown",
   "metadata": {
    "collapsed": true
   },
   "source": [
    "# Image Classification\n",
    "In this project, you'll classify images from the [CIFAR-10 dataset](https://www.cs.toronto.edu/~kriz/cifar.html).  \n",
    "\n",
    "## Get the Data\n",
    "Run the following cell to download the [CIFAR-10 dataset for python](https://www.cs.toronto.edu/~kriz/cifar-10-python.tar.gz)."
   ]
  },
  {
   "cell_type": "code",
   "execution_count": 3,
   "metadata": {
    "collapsed": false
   },
   "outputs": [
    {
     "name": "stdout",
     "output_type": "stream",
     "text": [
      "All files found!\n"
     ]
    }
   ],
   "source": [
    "\n",
    "from urllib.request import urlretrieve\n",
    "from os.path import isfile, isdir\n",
    "from tqdm import tqdm\n",
    "import problem_unittests as tests\n",
    "import tarfile\n",
    "\n",
    "cifar10_dataset_folder_path = 'cifar-10-batches-py'\n",
    "\n",
    "# Use Floyd's cifar-10 dataset if present\n",
    "floyd_cifar10_location = '/input/cifar-10/python.tar.gz'\n",
    "if isfile(floyd_cifar10_location):\n",
    "    tar_gz_path = floyd_cifar10_location\n",
    "else:\n",
    "    tar_gz_path = 'cifar-10-python.tar.gz'\n",
    "\n",
    "class DLProgress(tqdm):\n",
    "    last_block = 0\n",
    "\n",
    "    def hook(self, block_num=1, block_size=1, total_size=None):\n",
    "        self.total = total_size\n",
    "        self.update((block_num - self.last_block) * block_size)\n",
    "        self.last_block = block_num\n",
    "\n",
    "if not isfile(tar_gz_path):\n",
    "    with DLProgress(unit='B', unit_scale=True, miniters=1, desc='CIFAR-10 Dataset') as pbar:\n",
    "        urlretrieve(\n",
    "            'https://www.cs.toronto.edu/~kriz/cifar-10-python.tar.gz',\n",
    "            tar_gz_path,\n",
    "            pbar.hook)\n",
    "\n",
    "if not isdir(cifar10_dataset_folder_path):\n",
    "    with tarfile.open(tar_gz_path) as tar:\n",
    "        tar.extractall()\n",
    "        tar.close()\n",
    "\n",
    "\n",
    "tests.test_folder_path(cifar10_dataset_folder_path)"
   ]
  },
  {
   "cell_type": "markdown",
   "metadata": {},
   "source": [
    "## Explore the Data\n",
    "The dataset is broken into batches to prevent your machine from running out of memory.  The CIFAR-10 dataset consists of 5 batches, named `data_batch_1`, `data_batch_2`, etc.. Each batch contains the labels and images that are one of the following:\n",
    "* airplane\n",
    "* automobile\n",
    "* bird\n",
    "* cat\n",
    "* deer\n",
    "* dog\n",
    "* frog\n",
    "* horse\n",
    "* ship\n",
    "* truck\n",
    "\n",
    "The `batch_id` is the id for a batch (1-5). The `sample_id` is the id for a image and label pair in the batch.\n",
    "\n"
   ]
  },
  {
   "cell_type": "code",
   "execution_count": 4,
   "metadata": {
    "collapsed": false
   },
   "outputs": [
    {
     "name": "stdout",
     "output_type": "stream",
     "text": [
      "\n",
      "Stats of batch 2:\n",
      "Samples: 10000\n",
      "Label Counts: {0: 984, 1: 1007, 2: 1010, 3: 995, 4: 1010, 5: 988, 6: 1008, 7: 1026, 8: 987, 9: 985}\n",
      "First 20 Labels: [1, 6, 6, 8, 8, 3, 4, 6, 0, 6, 0, 3, 6, 6, 5, 4, 8, 3, 2, 6]\n",
      "\n",
      "Example of Image 1:\n",
      "Image - Min Value: 2 Max Value: 247\n",
      "Image - Shape: (32, 32, 3)\n",
      "Label - Label Id: 6 Name: frog\n"
     ]
    },
    {
     "data": {
      "image/png": "[encoded data removed]",
      "text/plain": [
       "<matplotlib.figure.Figure at 0x7fcbe3d63630>"
      ]
     },
     "metadata": {
      "image/png": {
       "height": 250,
       "width": 253
      }
     },
     "output_type": "display_data"
    }
   ],
   "source": [
    "%matplotlib inline\n",
    "%config InlineBackend.figure_format = 'retina'\n",
    "\n",
    "import helper\n",
    "import numpy as np\n",
    "\n",
    "# Explore the dataset\n",
    "batch_id = 2\n",
    "sample_id = 1\n",
    "helper.display_stats(cifar10_dataset_folder_path, batch_id, sample_id)"
   ]
  },
  {
   "cell_type": "markdown",
   "metadata": {},
   "source": [
    "##  Preprocess Functions\n",
    "### Normalize\n",
    "The `normalize` function to take in image data, `x`, and return it as a normalized Numpy array. The values should be in the range of 0 to 1, inclusive.  The return object should be the same shape as `x`."
   ]
  },
  {
   "cell_type": "code",
   "execution_count": 5,
   "metadata": {
    "collapsed": false
   },
   "outputs": [
    {
     "name": "stdout",
     "output_type": "stream",
     "text": [
      "Tests Passed\n"
     ]
    }
   ],
   "source": [
    "def normalize(x):\n",
    "    \"\"\"\n",
    "    Normalize a list of sample image data in the range of 0 to 1\n",
    "    : x: List of image data.  The image shape is (32, 32, 3)\n",
    "    : return: Numpy array of normalize data\n",
    "    \"\"\"\n",
    "    min = np.min(x) # 0\n",
    "    max = np.max(x) # 255\n",
    "    return (x-min)/(max-min) # x/255\n",
    "\n",
    "\n",
    "\n",
    "\n",
    "tests.test_normalize(normalize)"
   ]
  },
  {
   "cell_type": "markdown",
   "metadata": {},
   "source": [
    "### One-hot encode\n",
    "The `one_hot_encode` function. The input, `x`, are a list of labels.  Implement the function to return the list of labels as One-Hot encoded Numpy array.  "
   ]
  },
  {
   "cell_type": "code",
   "execution_count": 7,
   "metadata": {
    "collapsed": false
   },
   "outputs": [
    {
     "name": "stdout",
     "output_type": "stream",
     "text": [
      "Tests Passed\n"
     ]
    }
   ],
   "source": [
    "def one_hot_encode(x):\n",
    "    \"\"\"\n",
    "    One hot encode a list of sample labels. Return a one-hot encoded vector for each label.\n",
    "    : x: List of sample Labels\n",
    "    : return: Numpy array of one-hot encoded labels\n",
    "    \"\"\"\n",
    "    return np.eye(10)[x] # 0-9 digits\n",
    "\n",
    "\n",
    "\n",
    "tests.test_one_hot_encode(one_hot_encode)"
   ]
  },
  {
   "cell_type": "markdown",
   "metadata": {},
   "source": [
    "## Preprocess all the data and save it\n",
    "Running the code cell below will preprocess all the CIFAR-10 data and save it to file. The code below also uses 10% of the training data for validation."
   ]
  },
  {
   "cell_type": "code",
   "execution_count": 8,
   "metadata": {
    "collapsed": true
   },
   "outputs": [],
   "source": [
    "\n",
    "# Preprocess Training, Validation, and Testing Data\n",
    "helper.preprocess_and_save_data(cifar10_dataset_folder_path, normalize, one_hot_encode)"
   ]
  },
  {
   "cell_type": "code",
   "execution_count": 9,
   "metadata": {
    "collapsed": true
   },
   "outputs": [],
   "source": [
    "\n",
    "import pickle\n",
    "import problem_unittests as tests\n",
    "import helper\n",
    "\n",
    "# Load the Preprocessed Validation data\n",
    "valid_features, valid_labels = pickle.load(open('preprocess_validation.p', mode='rb'))"
   ]
  },
  {
   "cell_type": "markdown",
   "metadata": {},
   "source": [
    "## Build the network\n",
    "\n",
    "\n",
    "### Input\n",
    "The neural network needs to read the image data, one-hot encoded labels, and dropout keep probability. Implement the following functions\n",
    "* Implement `neural_net_image_input`\n",
    " * Return a [TF Placeholder](https://www.tensorflow.org/api_docs/python/tf/placeholder)\n",
    " * Set the shape using `image_shape` with batch size set to `None`.\n",
    " * Name the TensorFlow placeholder \"x\" using the TensorFlow `name` parameter in the [TF Placeholder](https://www.tensorflow.org/api_docs/python/tf/placeholder).\n",
    "* Implement `neural_net_label_input`\n",
    " * Return a [TF Placeholder](https://www.tensorflow.org/api_docs/python/tf/placeholder)\n",
    " * Set the shape using `n_classes` with batch size set to `None`.\n",
    " * Name the TensorFlow placeholder \"y\" using the TensorFlow `name` parameter in the [TF Placeholder](https://www.tensorflow.org/api_docs/python/tf/placeholder).\n",
    "* Implement `neural_net_keep_prob_input`\n",
    " * Return a [TF Placeholder](https://www.tensorflow.org/api_docs/python/tf/placeholder) for dropout keep probability.\n",
    " * Name the TensorFlow placeholder \"keep_prob\" using the TensorFlow `name` parameter in the [TF Placeholder](https://www.tensorflow.org/api_docs/python/tf/placeholder).\n",
    "\n",
    "\n",
    "\n",
    "Note: `None` for shapes in TensorFlow allow for a dynamic size."
   ]
  },
  {
   "cell_type": "code",
   "execution_count": 10,
   "metadata": {
    "collapsed": false
   },
   "outputs": [
    {
     "name": "stdout",
     "output_type": "stream",
     "text": [
      "Image Input Tests Passed.\n",
      "Label Input Tests Passed.\n",
      "Keep Prob Tests Passed.\n"
     ]
    }
   ],
   "source": [
    "import tensorflow as tf\n",
    "\n",
    "def neural_net_image_input(image_shape):\n",
    "    \"\"\"\n",
    "    Return a Tensor for a batch of image input\n",
    "    : image_shape: Shape of the images\n",
    "    : return: Tensor for image input.\n",
    "    \"\"\"\n",
    "    return tf.placeholder(tf.float32, [None, *image_shape], name='x')\n",
    "\n",
    "\n",
    "def neural_net_label_input(n_classes):\n",
    "    \"\"\"\n",
    "    Return a Tensor for a batch of label input\n",
    "    : n_classes: Number of classes\n",
    "    : return: Tensor for label input.\n",
    "    \"\"\"\n",
    "    return tf.placeholder(tf.float32, [None, n_classes], name='y')\n",
    "\n",
    "\n",
    "def neural_net_keep_prob_input():\n",
    "    \"\"\"\n",
    "    Return a Tensor for keep probability\n",
    "    : return: Tensor for keep probability.\n",
    "    \"\"\"\n",
    "    return tf.placeholder(tf.float32, name='keep_prob')\n",
    "\n",
    "\n",
    "\n",
    "tf.reset_default_graph()\n",
    "tests.test_nn_image_inputs(neural_net_image_input)\n",
    "tests.test_nn_label_inputs(neural_net_label_input)\n",
    "tests.test_nn_keep_prob_inputs(neural_net_keep_prob_input)"
   ]
  },
  {
   "cell_type": "markdown",
   "metadata": {},
   "source": [
    "### Convolution and Max Pooling Layer\n",
    "The function `conv2d_maxpool` to apply convolution then max pooling:\n",
    "* Create the weight and bias using `conv_ksize`, `conv_num_outputs` and the shape of `x_tensor`.\n",
    "* Apply a convolution to `x_tensor` using weight and `conv_strides`.\n",
    "* Add bias\n",
    "* Add a nonlinear activation to the convolution.\n",
    "* Apply Max Pooling using `pool_ksize` and `pool_strides`.\n",
    " \n",
    "\n"
   ]
  },
  {
   "cell_type": "code",
   "execution_count": 11,
   "metadata": {
    "collapsed": false
   },
   "outputs": [
    {
     "name": "stdout",
     "output_type": "stream",
     "text": [
      "Tests Passed\n"
     ]
    }
   ],
   "source": [
    "def conv2d_maxpool(x_tensor, conv_num_outputs, conv_ksize, conv_strides, pool_ksize, pool_strides):\n",
    "    \"\"\"\n",
    "    Apply convolution then max pooling to x_tensor\n",
    "    :param x_tensor: TensorFlow Tensor\n",
    "    :param conv_num_outputs: Number of outputs for the convolutional layer\n",
    "    :param conv_ksize: kernal size 2-D Tuple for the convolutional layer\n",
    "    :param conv_strides: Stride 2-D Tuple for convolution\n",
    "    :param pool_ksize: kernal size 2-D Tuple for pool\n",
    "    :param pool_strides: Stride 2-D Tuple for pool\n",
    "    : return: A tensor that represents convolution and max pooling of x_tensor\n",
    "    \"\"\"\n",
    "    shape = x_tensor.get_shape().as_list()[-1]\n",
    "    \n",
    "    # Weights\n",
    "    weights = tf.Variable(tf.truncated_normal(\n",
    "        [conv_ksize[0], conv_ksize[1], shape, conv_num_outputs], stddev=0.05))\n",
    "    \n",
    "    # Bias\n",
    "    bias = tf.Variable(tf.zeros([conv_num_outputs]))\n",
    "    \n",
    "    # Convolution Layer\n",
    "    strides = [1, *conv_strides, 1]\n",
    "    output = tf.nn.conv2d(x_tensor, weights, strides, padding='SAME')\n",
    "    activation = tf.nn.relu(tf.nn.bias_add(output, bias))\n",
    "    \n",
    "    # Max pool\n",
    "    ksize = [1, *pool_ksize, 1]\n",
    "    strides = [1, *pool_strides, 1]\n",
    "    max_pool = tf.nn.max_pool(activation, ksize, strides, padding='SAME')\n",
    "    \n",
    "    return max_pool \n",
    "\n",
    "\n",
    "tests.test_con_pool(conv2d_maxpool)\n"
   ]
  },
  {
   "cell_type": "markdown",
   "metadata": {},
   "source": [
    "### Flatten Layer\n",
    "The `flatten` function to change the dimension of `x_tensor` from a 4-D tensor to a 2-D tensor.  The output should be the shape (*Batch Size*, *Flattened Image Size*)."
   ]
  },
  {
   "cell_type": "code",
   "execution_count": 12,
   "metadata": {
    "collapsed": false
   },
   "outputs": [
    {
     "name": "stdout",
     "output_type": "stream",
     "text": [
      "Tests Passed\n"
     ]
    }
   ],
   "source": [
    "def flatten(x_tensor):\n",
    "    \"\"\"\n",
    "    Flatten x_tensor to (Batch Size, Flattened Image Size)\n",
    "    : x_tensor: A tensor of size (Batch Size, ...), where ... are the image dimensions.\n",
    "    : return: A tensor of size (Batch Size, Flattened Image Size).\n",
    "    \"\"\"\n",
    "    shape = x_tensor.get_shape().as_list() # [None, 10, 30, 6]\n",
    "    dimension = shape[1]*shape[2]*shape[3] # 18000\n",
    "    return tf.reshape(x_tensor, [-1, (dimension)])\n",
    "\n",
    "\n",
    "tests.test_flatten(flatten)\n"
   ]
  },
  {
   "cell_type": "markdown",
   "metadata": {},
   "source": [
    "### Fully-Connected Layer\n",
    "The `fully_conn` function to apply a fully connected layer to `x_tensor` with the shape (*Batch Size*, *num_outputs*). "
   ]
  },
  {
   "cell_type": "code",
   "execution_count": 13,
   "metadata": {
    "collapsed": false
   },
   "outputs": [
    {
     "name": "stdout",
     "output_type": "stream",
     "text": [
      "Tests Passed\n"
     ]
    }
   ],
   "source": [
    "def fully_conn(x_tensor, num_outputs):\n",
    "    \"\"\"\n",
    "    Apply a fully connected layer to x_tensor using weight and bias\n",
    "    : x_tensor: A 2-D tensor where the first dimension is batch size.\n",
    "    : num_outputs: The number of output that the new tensor should be.\n",
    "    : return: A 2-D tensor where the second dimension is num_outputs.\n",
    "    \"\"\"\n",
    "    shape = x_tensor.get_shape().as_list()\n",
    "    weights = tf.Variable(tf.truncated_normal([shape[1], num_outputs], stddev=0.05))\n",
    "    bias = tf.Variable(tf.zeros(num_outputs))\n",
    "    \n",
    "    fc = tf.add(tf.matmul(x_tensor, weights), bias)\n",
    "    return tf.nn.relu(fc)\n",
    "\n",
    "\n",
    "\n",
    "tests.test_fully_conn(fully_conn)\n"
   ]
  },
  {
   "cell_type": "markdown",
   "metadata": {},
   "source": [
    "### Output Layer\n",
    "The `output` function to apply a fully connected layer to `x_tensor` with the shape (*Batch Size*, *num_outputs*). "
   ]
  },
  {
   "cell_type": "code",
   "execution_count": 14,
   "metadata": {
    "collapsed": false
   },
   "outputs": [
    {
     "name": "stdout",
     "output_type": "stream",
     "text": [
      "Tests Passed\n"
     ]
    }
   ],
   "source": [
    "def output(x_tensor, num_outputs):\n",
    "    \"\"\"\n",
    "    Apply a output layer to x_tensor using weight and bias\n",
    "    : x_tensor: A 2-D tensor where the first dimension is batch size.\n",
    "    : num_outputs: The number of output that the new tensor should be.\n",
    "    : return: A 2-D tensor where the second dimension is num_outputs.\n",
    "    \"\"\"\n",
    "    shape = x_tensor.get_shape().as_list()\n",
    "    weights = tf.Variable(tf.truncated_normal([shape[1], num_outputs], stddev=0.05))\n",
    "    bias = tf.Variable(tf.zeros(num_outputs))\n",
    "    return tf.add(tf.matmul(x_tensor, weights), bias)\n",
    "\n",
    "\n",
    "tests.test_output(output)"
   ]
  },
  {
   "cell_type": "markdown",
   "metadata": {},
   "source": [
    "### Create Convolutional Model\n",
    "The function `conv_net` to create a convolutional neural network model. The function takes in a batch of images, `x`, and outputs logits.  Use the layers you created above to create this model:\n",
    "\n",
    "* Apply 1, 2, or 3 Convolution and Max Pool layers\n",
    "* Apply a Flatten Layer\n",
    "* Apply 1, 2, or 3 Fully Connected Layers\n",
    "* Apply an Output Layer\n",
    "* Return the output\n",
    "* Apply [TensorFlow's Dropout](https://www.tensorflow.org/api_docs/python/tf/nn/dropout) to one or more layers in the model using `keep_prob`. "
   ]
  },
  {
   "cell_type": "code",
   "execution_count": 15,
   "metadata": {
    "collapsed": false
   },
   "outputs": [
    {
     "name": "stdout",
     "output_type": "stream",
     "text": [
      "Neural Network Built!\n"
     ]
    }
   ],
   "source": [
    "def conv_net(x, keep_prob):\n",
    "    \"\"\"\n",
    "    Create a convolutional neural network model\n",
    "    : x: Placeholder tensor that holds image data.\n",
    "    : keep_prob: Placeholder tensor that hold dropout keep probability.\n",
    "    : return: Tensor that represents logits\n",
    "    \"\"\"\n",
    "    # Apply 1, 2, or 3 Convolution and Max Pool layers\n",
    "    conv = conv2d_maxpool(x,    32,  (8,8), (1,1), (2,2), (2,2))\n",
    "    conv = conv2d_maxpool(conv, 64,  (4,4), (1,1), (2,2), (2,2))\n",
    "    conv = conv2d_maxpool(conv, 256, (2,2), (1,1), (2,2), (2,2))\n",
    "\n",
    "\n",
    "    # Apply a Flatten Layer\n",
    "    flat_x = flatten(conv)\n",
    "    \n",
    "\n",
    "    # Apply 1, 2, or 3 Fully Connected Layers\n",
    "    fc = fully_conn(flat_x, 512)\n",
    "    fc = fully_conn(fc, 64)\n",
    "    fc = tf.nn.dropout(fc, keep_prob)\n",
    "    \n",
    "    \n",
    "    # Apply an Output Layer\n",
    "    out = tf.nn.dropout(output(fc, 10), keep_prob)\n",
    "    \n",
    "    \n",
    "    # TODO: return output\n",
    "    return out\n",
    "\n",
    "\n",
    "\n",
    "\n",
    "##############################\n",
    "## Build the Neural Network ##\n",
    "##############################\n",
    "\n",
    "# Remove previous weights, bias, inputs, etc..\n",
    "tf.reset_default_graph()\n",
    "\n",
    "# Inputs\n",
    "x = neural_net_image_input((32, 32, 3))\n",
    "y = neural_net_label_input(10)\n",
    "keep_prob = neural_net_keep_prob_input()\n",
    "\n",
    "# Model\n",
    "logits = conv_net(x, keep_prob)\n",
    "\n",
    "# Name logits Tensor, so that is can be loaded from disk after training\n",
    "logits = tf.identity(logits, name='logits')\n",
    "\n",
    "# Loss and Optimizer\n",
    "cost = tf.reduce_mean(tf.nn.softmax_cross_entropy_with_logits(logits=logits, labels=y))\n",
    "optimizer = tf.train.AdamOptimizer().minimize(cost)\n",
    "\n",
    "# Accuracy\n",
    "correct_pred = tf.equal(tf.argmax(logits, 1), tf.argmax(y, 1))\n",
    "accuracy = tf.reduce_mean(tf.cast(correct_pred, tf.float32), name='accuracy')\n",
    "\n",
    "tests.test_conv_net(conv_net)"
   ]
  },
  {
   "cell_type": "markdown",
   "metadata": {},
   "source": [
    "## Train the Neural Network\n",
    "### Single Optimization\n",
    "Implement the function `train_neural_network` to do a single optimization.  The optimization should use `optimizer` to optimize in `session` with a `feed_dict` of the following:\n",
    "* `x` for image input\n",
    "* `y` for labels\n",
    "* `keep_prob` for keep probability for dropout\n",
    "\n"
   ]
  },
  {
   "cell_type": "code",
   "execution_count": 18,
   "metadata": {
    "collapsed": false
   },
   "outputs": [
    {
     "name": "stdout",
     "output_type": "stream",
     "text": [
      "Tests Passed\n"
     ]
    }
   ],
   "source": [
    "def train_neural_network(session, optimizer, keep_probability, feature_batch, label_batch):\n",
    "    \"\"\"\n",
    "    Optimize the session on a batch of images and labels\n",
    "    : session: Current TensorFlow session\n",
    "    : optimizer: TensorFlow optimizer function\n",
    "    : keep_probability: keep probability\n",
    "    : feature_batch: Batch of Numpy image data\n",
    "    : label_batch: Batch of Numpy label data\n",
    "    \"\"\"\n",
    "    session.run(optimizer, feed_dict={\n",
    "        x: feature_batch,\n",
    "        y: label_batch,\n",
    "        keep_prob: keep_probability\n",
    "    })\n",
    "\n",
    "\n",
    "\n",
    "tests.test_train_nn(train_neural_network)"
   ]
  },
  {
   "cell_type": "markdown",
   "metadata": {},
   "source": [
    "### Show Stats\n",
    "Implement the function `print_stats` to print loss and validation accuracy."
   ]
  },
  {
   "cell_type": "code",
   "execution_count": 20,
   "metadata": {
    "collapsed": true
   },
   "outputs": [],
   "source": [
    "def print_stats(session, feature_batch, label_batch, cost, accuracy):\n",
    "    \"\"\"\n",
    "    Print information about loss and validation accuracy\n",
    "    : session: Current TensorFlow session\n",
    "    : feature_batch: Batch of Numpy image data\n",
    "    : label_batch: Batch of Numpy label data\n",
    "    : cost: TensorFlow cost function\n",
    "    : accuracy: TensorFlow accuracy function\n",
    "    \"\"\"\n",
    "    loss = session.run(cost, feed_dict={\n",
    "        x: feature_batch,\n",
    "        y: label_batch,\n",
    "        keep_prob: 1.0\n",
    "    })\n",
    "    \n",
    "    train_acc = session.run(accuracy, feed_dict={\n",
    "        x: feature_batch,\n",
    "        y: label_batch,\n",
    "        keep_prob: 1.0\n",
    "    })\n",
    "    \n",
    "    valid_acc = session.run(accuracy, feed_dict={\n",
    "        x: valid_features,\n",
    "        y: valid_labels,\n",
    "        keep_prob: 1.0\n",
    "    })\n",
    "    \n",
    "    print('Loss: {:>10.4f} , Training Acc: {:.4f}, Validation Acc: {:.4f}'\n",
    "          .format( loss, train_acc, valid_acc))"
   ]
  },
  {
   "cell_type": "markdown",
   "metadata": {},
   "source": [
    "### Hyperparameters\n"
   ]
  },
  {
   "cell_type": "code",
   "execution_count": 21,
   "metadata": {
    "collapsed": true
   },
   "outputs": [],
   "source": [
    "#Parameters\n",
    "epochs = 20\n",
    "batch_size = 1024\n",
    "keep_probability = 0.8"
   ]
  },
  {
   "cell_type": "markdown",
   "metadata": {},
   "source": [
    "### Train on a Single CIFAR-10 Batch\n",
    "Instead of training the neural network on all the CIFAR-10 batches of data, let's use a single batch. This should save time while you iterate on the model to get a better accuracy.  Once the final validation accuracy is 50% or greater, run the model on all the data in the next section."
   ]
  },
  {
   "cell_type": "code",
   "execution_count": 22,
   "metadata": {
    "collapsed": false
   },
   "outputs": [
    {
     "name": "stdout",
     "output_type": "stream",
     "text": [
      "Checking the Training on a Single Batch...\n",
      "Epoch  1, CIFAR-10 Batch 1:  Loss:     2.1575 , Training Acc: 0.2748, Validation Acc: 0.2626\n",
      "Epoch  2, CIFAR-10 Batch 1:  Loss:     1.9675 , Training Acc: 0.3205, Validation Acc: 0.3140\n",
      "Epoch  3, CIFAR-10 Batch 1:  Loss:     1.9004 , Training Acc: 0.3490, Validation Acc: 0.3226\n",
      "Epoch  4, CIFAR-10 Batch 1:  Loss:     1.7929 , Training Acc: 0.3948, Validation Acc: 0.3532\n",
      "Epoch  5, CIFAR-10 Batch 1:  Loss:     1.7022 , Training Acc: 0.4146, Validation Acc: 0.3934\n",
      "Epoch  6, CIFAR-10 Batch 1:  Loss:     1.6151 , Training Acc: 0.4381, Validation Acc: 0.4190\n",
      "Epoch  7, CIFAR-10 Batch 1:  Loss:     1.5595 , Training Acc: 0.4765, Validation Acc: 0.4480\n",
      "Epoch  8, CIFAR-10 Batch 1:  Loss:     1.5096 , Training Acc: 0.4901, Validation Acc: 0.4478\n",
      "Epoch  9, CIFAR-10 Batch 1:  Loss:     1.5099 , Training Acc: 0.4889, Validation Acc: 0.4468\n",
      "Epoch 10, CIFAR-10 Batch 1:  Loss:     1.4738 , Training Acc: 0.5037, Validation Acc: 0.4596\n",
      "Epoch 11, CIFAR-10 Batch 1:  Loss:     1.4183 , Training Acc: 0.5099, Validation Acc: 0.4638\n",
      "Epoch 12, CIFAR-10 Batch 1:  Loss:     1.3962 , Training Acc: 0.5260, Validation Acc: 0.4780\n",
      "Epoch 13, CIFAR-10 Batch 1:  Loss:     1.3390 , Training Acc: 0.5408, Validation Acc: 0.4880\n",
      "Epoch 14, CIFAR-10 Batch 1:  Loss:     1.3053 , Training Acc: 0.5681, Validation Acc: 0.4994\n",
      "Epoch 15, CIFAR-10 Batch 1:  Loss:     1.2833 , Training Acc: 0.5767, Validation Acc: 0.5108\n",
      "Epoch 16, CIFAR-10 Batch 1:  Loss:     1.2539 , Training Acc: 0.5606, Validation Acc: 0.4994\n",
      "Epoch 17, CIFAR-10 Batch 1:  Loss:     1.2202 , Training Acc: 0.5879, Validation Acc: 0.5110\n",
      "Epoch 18, CIFAR-10 Batch 1:  Loss:     1.2144 , Training Acc: 0.5792, Validation Acc: 0.5026\n",
      "Epoch 19, CIFAR-10 Batch 1:  Loss:     1.1825 , Training Acc: 0.5767, Validation Acc: 0.5070\n",
      "Epoch 20, CIFAR-10 Batch 1:  Loss:     1.1305 , Training Acc: 0.6126, Validation Acc: 0.5264\n"
     ]
    }
   ],
   "source": [
    "print('Checking the Training on a Single Batch...')\n",
    "with tf.Session() as sess:\n",
    "    # Initializing the variables\n",
    "    sess.run(tf.global_variables_initializer())\n",
    "    \n",
    "    # Training cycle\n",
    "    for epoch in range(epochs):\n",
    "        batch_i = 1\n",
    "        for batch_features, batch_labels in helper.load_preprocess_training_batch(batch_i, batch_size):\n",
    "            train_neural_network(sess, optimizer, keep_probability, batch_features, batch_labels)\n",
    "        print('Epoch {:>2}, CIFAR-10 Batch {}:  '.format(epoch + 1, batch_i), end='')\n",
    "        print_stats(sess, batch_features, batch_labels, cost, accuracy)"
   ]
  },
  {
   "cell_type": "markdown",
   "metadata": {},
   "source": [
    "### Fully Train the Model\n",
    "Try it with all five batches."
   ]
  },
  {
   "cell_type": "code",
   "execution_count": 23,
   "metadata": {
    "collapsed": false
   },
   "outputs": [
    {
     "name": "stdout",
     "output_type": "stream",
     "text": [
      "Training...\n",
      "Epoch  1, CIFAR-10 Batch 1:  Loss:     2.1604 , Training Acc: 0.2847, Validation Acc: 0.2542\n",
      "Epoch  1, CIFAR-10 Batch 2:  Loss:     1.9970 , Training Acc: 0.3057, Validation Acc: 0.3006\n",
      "Epoch  1, CIFAR-10 Batch 3:  Loss:     1.8664 , Training Acc: 0.3205, Validation Acc: 0.3200\n",
      "Epoch  1, CIFAR-10 Batch 4:  Loss:     1.7767 , Training Acc: 0.3874, Validation Acc: 0.3710\n",
      "Epoch  1, CIFAR-10 Batch 5:  Loss:     1.7275 , Training Acc: 0.3948, Validation Acc: 0.4030\n",
      "Epoch  2, CIFAR-10 Batch 1:  Loss:     1.6643 , Training Acc: 0.3911, Validation Acc: 0.3976\n",
      "Epoch  2, CIFAR-10 Batch 2:  Loss:     1.6456 , Training Acc: 0.4220, Validation Acc: 0.4244\n",
      "Epoch  2, CIFAR-10 Batch 3:  Loss:     1.5736 , Training Acc: 0.4616, Validation Acc: 0.4304\n",
      "Epoch  2, CIFAR-10 Batch 4:  Loss:     1.5561 , Training Acc: 0.4678, Validation Acc: 0.4446\n",
      "Epoch  2, CIFAR-10 Batch 5:  Loss:     1.5433 , Training Acc: 0.4777, Validation Acc: 0.4522\n",
      "Epoch  3, CIFAR-10 Batch 1:  Loss:     1.5072 , Training Acc: 0.4839, Validation Acc: 0.4474\n",
      "Epoch  3, CIFAR-10 Batch 2:  Loss:     1.5294 , Training Acc: 0.4752, Validation Acc: 0.4530\n",
      "Epoch  3, CIFAR-10 Batch 3:  Loss:     1.4592 , Training Acc: 0.4876, Validation Acc: 0.4568\n",
      "Epoch  3, CIFAR-10 Batch 4:  Loss:     1.4317 , Training Acc: 0.4963, Validation Acc: 0.4854\n",
      "Epoch  3, CIFAR-10 Batch 5:  Loss:     1.4563 , Training Acc: 0.4901, Validation Acc: 0.4810\n",
      "Epoch  4, CIFAR-10 Batch 1:  Loss:     1.4009 , Training Acc: 0.5149, Validation Acc: 0.4928\n",
      "Epoch  4, CIFAR-10 Batch 2:  Loss:     1.4365 , Training Acc: 0.5037, Validation Acc: 0.4878\n",
      "Epoch  4, CIFAR-10 Batch 3:  Loss:     1.3062 , Training Acc: 0.5470, Validation Acc: 0.5088\n",
      "Epoch  4, CIFAR-10 Batch 4:  Loss:     1.3177 , Training Acc: 0.5408, Validation Acc: 0.5164\n",
      "Epoch  4, CIFAR-10 Batch 5:  Loss:     1.3372 , Training Acc: 0.5557, Validation Acc: 0.5176\n",
      "Epoch  5, CIFAR-10 Batch 1:  Loss:     1.3241 , Training Acc: 0.5272, Validation Acc: 0.5178\n",
      "Epoch  5, CIFAR-10 Batch 2:  Loss:     1.3807 , Training Acc: 0.5223, Validation Acc: 0.5122\n",
      "Epoch  5, CIFAR-10 Batch 3:  Loss:     1.2695 , Training Acc: 0.5594, Validation Acc: 0.5162\n",
      "Epoch  5, CIFAR-10 Batch 4:  Loss:     1.2557 , Training Acc: 0.5631, Validation Acc: 0.5400\n",
      "Epoch  5, CIFAR-10 Batch 5:  Loss:     1.2767 , Training Acc: 0.5631, Validation Acc: 0.5358\n",
      "Epoch  6, CIFAR-10 Batch 1:  Loss:     1.2476 , Training Acc: 0.5755, Validation Acc: 0.5452\n",
      "Epoch  6, CIFAR-10 Batch 2:  Loss:     1.2705 , Training Acc: 0.5619, Validation Acc: 0.5370\n",
      "Epoch  6, CIFAR-10 Batch 3:  Loss:     1.1871 , Training Acc: 0.5817, Validation Acc: 0.5660\n",
      "Epoch  6, CIFAR-10 Batch 4:  Loss:     1.2126 , Training Acc: 0.5854, Validation Acc: 0.5506\n",
      "Epoch  6, CIFAR-10 Batch 5:  Loss:     1.1993 , Training Acc: 0.5978, Validation Acc: 0.5560\n",
      "Epoch  7, CIFAR-10 Batch 1:  Loss:     1.1739 , Training Acc: 0.6077, Validation Acc: 0.5624\n",
      "Epoch  7, CIFAR-10 Batch 2:  Loss:     1.2143 , Training Acc: 0.5928, Validation Acc: 0.5630\n",
      "Epoch  7, CIFAR-10 Batch 3:  Loss:     1.1219 , Training Acc: 0.6064, Validation Acc: 0.5670\n",
      "Epoch  7, CIFAR-10 Batch 4:  Loss:     1.1508 , Training Acc: 0.6064, Validation Acc: 0.5586\n",
      "Epoch  7, CIFAR-10 Batch 5:  Loss:     1.1351 , Training Acc: 0.6126, Validation Acc: 0.5706\n",
      "Epoch  8, CIFAR-10 Batch 1:  Loss:     1.1051 , Training Acc: 0.6250, Validation Acc: 0.5768\n",
      "Epoch  8, CIFAR-10 Batch 2:  Loss:     1.1578 , Training Acc: 0.6089, Validation Acc: 0.5820\n",
      "Epoch  8, CIFAR-10 Batch 3:  Loss:     1.0575 , Training Acc: 0.6411, Validation Acc: 0.5928\n",
      "Epoch  8, CIFAR-10 Batch 4:  Loss:     1.0743 , Training Acc: 0.6238, Validation Acc: 0.5938\n",
      "Epoch  8, CIFAR-10 Batch 5:  Loss:     1.0661 , Training Acc: 0.6300, Validation Acc: 0.5926\n",
      "Epoch  9, CIFAR-10 Batch 1:  Loss:     1.0548 , Training Acc: 0.6411, Validation Acc: 0.5942\n",
      "Epoch  9, CIFAR-10 Batch 2:  Loss:     1.0755 , Training Acc: 0.6324, Validation Acc: 0.6022\n",
      "Epoch  9, CIFAR-10 Batch 3:  Loss:     1.0029 , Training Acc: 0.6646, Validation Acc: 0.5998\n",
      "Epoch  9, CIFAR-10 Batch 4:  Loss:     0.9922 , Training Acc: 0.6609, Validation Acc: 0.6142\n",
      "Epoch  9, CIFAR-10 Batch 5:  Loss:     0.9967 , Training Acc: 0.6696, Validation Acc: 0.6112\n",
      "Epoch 10, CIFAR-10 Batch 1:  Loss:     0.9791 , Training Acc: 0.6819, Validation Acc: 0.6172\n",
      "Epoch 10, CIFAR-10 Batch 2:  Loss:     1.0806 , Training Acc: 0.6324, Validation Acc: 0.6008\n",
      "Epoch 10, CIFAR-10 Batch 3:  Loss:     0.9790 , Training Acc: 0.6782, Validation Acc: 0.6188\n",
      "Epoch 10, CIFAR-10 Batch 4:  Loss:     0.9992 , Training Acc: 0.6646, Validation Acc: 0.6074\n",
      "Epoch 10, CIFAR-10 Batch 5:  Loss:     0.9306 , Training Acc: 0.6943, Validation Acc: 0.6204\n",
      "Epoch 11, CIFAR-10 Batch 1:  Loss:     0.9036 , Training Acc: 0.7141, Validation Acc: 0.6348\n",
      "Epoch 11, CIFAR-10 Batch 2:  Loss:     0.9471 , Training Acc: 0.6770, Validation Acc: 0.6292\n",
      "Epoch 11, CIFAR-10 Batch 3:  Loss:     0.9363 , Training Acc: 0.6807, Validation Acc: 0.6284\n",
      "Epoch 11, CIFAR-10 Batch 4:  Loss:     0.9366 , Training Acc: 0.6757, Validation Acc: 0.6256\n",
      "Epoch 11, CIFAR-10 Batch 5:  Loss:     0.9547 , Training Acc: 0.6807, Validation Acc: 0.6238\n",
      "Epoch 12, CIFAR-10 Batch 1:  Loss:     0.8679 , Training Acc: 0.7228, Validation Acc: 0.6436\n",
      "Epoch 12, CIFAR-10 Batch 2:  Loss:     0.8896 , Training Acc: 0.6993, Validation Acc: 0.6420\n",
      "Epoch 12, CIFAR-10 Batch 3:  Loss:     0.8849 , Training Acc: 0.7030, Validation Acc: 0.6358\n",
      "Epoch 12, CIFAR-10 Batch 4:  Loss:     0.8327 , Training Acc: 0.7191, Validation Acc: 0.6530\n",
      "Epoch 12, CIFAR-10 Batch 5:  Loss:     0.8258 , Training Acc: 0.7240, Validation Acc: 0.6512\n",
      "Epoch 13, CIFAR-10 Batch 1:  Loss:     0.8380 , Training Acc: 0.7475, Validation Acc: 0.6528\n",
      "Epoch 13, CIFAR-10 Batch 2:  Loss:     0.8552 , Training Acc: 0.7092, Validation Acc: 0.6546\n",
      "Epoch 13, CIFAR-10 Batch 3:  Loss:     0.8351 , Training Acc: 0.7228, Validation Acc: 0.6540\n",
      "Epoch 13, CIFAR-10 Batch 4:  Loss:     0.8317 , Training Acc: 0.7240, Validation Acc: 0.6440\n",
      "Epoch 13, CIFAR-10 Batch 5:  Loss:     0.7903 , Training Acc: 0.7512, Validation Acc: 0.6608\n",
      "Epoch 14, CIFAR-10 Batch 1:  Loss:     0.7627 , Training Acc: 0.7686, Validation Acc: 0.6638\n",
      "Epoch 14, CIFAR-10 Batch 2:  Loss:     0.8136 , Training Acc: 0.7215, Validation Acc: 0.6638\n",
      "Epoch 14, CIFAR-10 Batch 3:  Loss:     0.7828 , Training Acc: 0.7438, Validation Acc: 0.6630\n",
      "Epoch 14, CIFAR-10 Batch 4:  Loss:     0.7795 , Training Acc: 0.7376, Validation Acc: 0.6628\n",
      "Epoch 14, CIFAR-10 Batch 5:  Loss:     0.7556 , Training Acc: 0.7550, Validation Acc: 0.6724\n",
      "Epoch 15, CIFAR-10 Batch 1:  Loss:     0.7519 , Training Acc: 0.7661, Validation Acc: 0.6708\n",
      "Epoch 15, CIFAR-10 Batch 2:  Loss:     0.7770 , Training Acc: 0.7525, Validation Acc: 0.6732\n",
      "Epoch 15, CIFAR-10 Batch 3:  Loss:     0.7321 , Training Acc: 0.7475, Validation Acc: 0.6710\n",
      "Epoch 15, CIFAR-10 Batch 4:  Loss:     0.7297 , Training Acc: 0.7426, Validation Acc: 0.6678\n",
      "Epoch 15, CIFAR-10 Batch 5:  Loss:     0.6979 , Training Acc: 0.7983, Validation Acc: 0.6810\n",
      "Epoch 16, CIFAR-10 Batch 1:  Loss:     0.7103 , Training Acc: 0.7574, Validation Acc: 0.6734\n",
      "Epoch 16, CIFAR-10 Batch 2:  Loss:     0.7410 , Training Acc: 0.7488, Validation Acc: 0.6784\n",
      "Epoch 16, CIFAR-10 Batch 3:  Loss:     0.6818 , Training Acc: 0.7809, Validation Acc: 0.6888\n",
      "Epoch 16, CIFAR-10 Batch 4:  Loss:     0.6641 , Training Acc: 0.7673, Validation Acc: 0.6800\n",
      "Epoch 16, CIFAR-10 Batch 5:  Loss:     0.6961 , Training Acc: 0.7686, Validation Acc: 0.6716\n",
      "Epoch 17, CIFAR-10 Batch 1:  Loss:     0.7139 , Training Acc: 0.7611, Validation Acc: 0.6508\n",
      "Epoch 17, CIFAR-10 Batch 2:  Loss:     0.6965 , Training Acc: 0.7673, Validation Acc: 0.6834\n",
      "Epoch 17, CIFAR-10 Batch 3:  Loss:     0.6538 , Training Acc: 0.7896, Validation Acc: 0.6826\n",
      "Epoch 17, CIFAR-10 Batch 4:  Loss:     0.6461 , Training Acc: 0.7809, Validation Acc: 0.6836\n",
      "Epoch 17, CIFAR-10 Batch 5:  Loss:     0.6525 , Training Acc: 0.8156, Validation Acc: 0.6892\n",
      "Epoch 18, CIFAR-10 Batch 1:  Loss:     0.6327 , Training Acc: 0.8007, Validation Acc: 0.6780\n",
      "Epoch 18, CIFAR-10 Batch 2:  Loss:     0.6358 , Training Acc: 0.7723, Validation Acc: 0.6872\n",
      "Epoch 18, CIFAR-10 Batch 3:  Loss:     0.6082 , Training Acc: 0.7995, Validation Acc: 0.6858\n",
      "Epoch 18, CIFAR-10 Batch 4:  Loss:     0.5986 , Training Acc: 0.8057, Validation Acc: 0.6884\n",
      "Epoch 18, CIFAR-10 Batch 5:  Loss:     0.5696 , Training Acc: 0.8304, Validation Acc: 0.6868\n",
      "Epoch 19, CIFAR-10 Batch 1:  Loss:     0.5931 , Training Acc: 0.8156, Validation Acc: 0.6890\n",
      "Epoch 19, CIFAR-10 Batch 2:  Loss:     0.6216 , Training Acc: 0.7921, Validation Acc: 0.6866\n",
      "Epoch 19, CIFAR-10 Batch 3:  Loss:     0.6138 , Training Acc: 0.7995, Validation Acc: 0.6858\n",
      "Epoch 19, CIFAR-10 Batch 4:  Loss:     0.5719 , Training Acc: 0.8094, Validation Acc: 0.6828\n",
      "Epoch 19, CIFAR-10 Batch 5:  Loss:     0.5488 , Training Acc: 0.8317, Validation Acc: 0.6924\n",
      "Epoch 20, CIFAR-10 Batch 1:  Loss:     0.5484 , Training Acc: 0.8292, Validation Acc: 0.7024\n",
      "Epoch 20, CIFAR-10 Batch 2:  Loss:     0.5883 , Training Acc: 0.8069, Validation Acc: 0.6906\n",
      "Epoch 20, CIFAR-10 Batch 3:  Loss:     0.5591 , Training Acc: 0.8168, Validation Acc: 0.6918\n",
      "Epoch 20, CIFAR-10 Batch 4:  Loss:     0.5918 , Training Acc: 0.8045, Validation Acc: 0.6690\n",
      "Epoch 20, CIFAR-10 Batch 5:  Loss:     0.5286 , Training Acc: 0.8490, Validation Acc: 0.7010\n"
     ]
    }
   ],
   "source": [
    "save_model_path = './image_classification'\n",
    "\n",
    "print('Training...')\n",
    "with tf.Session() as sess:\n",
    "    # Initializing the variables\n",
    "    sess.run(tf.global_variables_initializer())\n",
    "    \n",
    "    # Training cycle\n",
    "    for epoch in range(epochs):\n",
    "        # Loop over all batches\n",
    "        n_batches = 5\n",
    "        for batch_i in range(1, n_batches + 1):\n",
    "            for batch_features, batch_labels in helper.load_preprocess_training_batch(batch_i, batch_size):\n",
    "                train_neural_network(sess, optimizer, keep_probability, batch_features, batch_labels)\n",
    "            print('Epoch {:>2}, CIFAR-10 Batch {}:  '.format(epoch + 1, batch_i), end='')\n",
    "            print_stats(sess, batch_features, batch_labels, cost, accuracy)\n",
    "            \n",
    "    # Save Model\n",
    "    saver = tf.train.Saver()\n",
    "    save_path = saver.save(sess, save_model_path)"
   ]
  },
  {
   "cell_type": "markdown",
   "metadata": {},
   "source": [
    "# Test Model\n",
    "Test your model against the test dataset.  This will be your final accuracy. You should have an accuracy greater than 50%."
   ]
  },
  {
   "cell_type": "code",
   "execution_count": 24,
   "metadata": {
    "collapsed": false
   },
   "outputs": [
    {
     "name": "stdout",
     "output_type": "stream",
     "text": [
      "INFO:tensorflow:Restoring parameters from ./image_classification\n",
      "Testing Accuracy: 0.6927056789398194\n",
      "\n"
     ]
    },
    {
     "data": {
      "image/png": "[encoded data removed]",
      "text/plain": [
       "<matplotlib.figure.Figure at 0x7fcc46ca8f98>"
      ]
     },
     "metadata": {
      "image/png": {
       "height": 319,
       "width": 355
      }
     },
     "output_type": "display_data"
    }
   ],
   "source": [
    "%matplotlib inline\n",
    "%config InlineBackend.figure_format = 'retina'\n",
    "\n",
    "import tensorflow as tf\n",
    "import pickle\n",
    "import helper\n",
    "import random\n",
    "\n",
    "# Set batch size if not already set\n",
    "try:\n",
    "    if batch_size:\n",
    "        pass\n",
    "except NameError:\n",
    "    batch_size = 64\n",
    "\n",
    "save_model_path = './image_classification'\n",
    "n_samples = 4\n",
    "top_n_predictions = 3\n",
    "\n",
    "def test_model():\n",
    "    \"\"\"\n",
    "    Test the saved model against the test dataset\n",
    "    \"\"\"\n",
    "\n",
    "    test_features, test_labels = pickle.load(open('preprocess_test.p', mode='rb'))\n",
    "    loaded_graph = tf.Graph()\n",
    "\n",
    "    with tf.Session(graph=loaded_graph) as sess:\n",
    "        # Load model\n",
    "        loader = tf.train.import_meta_graph(save_model_path + '.meta')\n",
    "        loader.restore(sess, save_model_path)\n",
    "\n",
    "        # Get Tensors from loaded model\n",
    "        loaded_x = loaded_graph.get_tensor_by_name('x:0')\n",
    "        loaded_y = loaded_graph.get_tensor_by_name('y:0')\n",
    "        loaded_keep_prob = loaded_graph.get_tensor_by_name('keep_prob:0')\n",
    "        loaded_logits = loaded_graph.get_tensor_by_name('logits:0')\n",
    "        loaded_acc = loaded_graph.get_tensor_by_name('accuracy:0')\n",
    "        \n",
    "        # Get accuracy in batches for memory limitations\n",
    "        test_batch_acc_total = 0\n",
    "        test_batch_count = 0\n",
    "        \n",
    "        for test_feature_batch, test_label_batch in helper.batch_features_labels(test_features, test_labels, batch_size):\n",
    "            test_batch_acc_total += sess.run(\n",
    "                loaded_acc,\n",
    "                feed_dict={loaded_x: test_feature_batch, loaded_y: test_label_batch, loaded_keep_prob: 1.0})\n",
    "            test_batch_count += 1\n",
    "\n",
    "        print('Testing Accuracy: {}\\n'.format(test_batch_acc_total/test_batch_count))\n",
    "\n",
    "        # Print Random Samples\n",
    "        random_test_features, random_test_labels = tuple(zip(*random.sample(list(zip(test_features, test_labels)), n_samples)))\n",
    "        random_test_predictions = sess.run(\n",
    "            tf.nn.top_k(tf.nn.softmax(loaded_logits), top_n_predictions),\n",
    "            feed_dict={loaded_x: random_test_features, loaded_y: random_test_labels, loaded_keep_prob: 1.0})\n",
    "        helper.display_image_predictions(random_test_features, random_test_labels, random_test_predictions)\n",
    "\n",
    "\n",
    "test_model()"
   ]
  },
  {
   "cell_type": "code",
   "execution_count": null,
   "metadata": {
    "collapsed": true
   },
   "outputs": [],
   "source": []
  }
 ],
 "metadata": {
  "kernelspec": {
   "display_name": "Python 2",
   "language": "python",
   "name": "python2"
  },
  "language_info": {
   "codemirror_mode": {
    "name": "ipython",
    "version": 2
   },
   "file_extension": ".py",
   "mimetype": "text/x-python",
   "name": "python",
   "nbconvert_exporter": "python",
   "pygments_lexer": "ipython2",
   "version": "2.7.12"
  }
 },
 "nbformat": 4,
 "nbformat_minor": 1
}
